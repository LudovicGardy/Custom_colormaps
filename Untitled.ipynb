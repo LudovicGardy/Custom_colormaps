{
 "cells": [
  {
   "cell_type": "code",
   "execution_count": 1,
   "id": "854ebc41",
   "metadata": {},
   "outputs": [],
   "source": [
    "import matplotlib.pyplot as plt\n",
    "import numpy as np      \n",
    "from matplotlib.colors import ListedColormap, LinearSegmentedColormap\n",
    "\n",
    "def create_image():\n",
    "    '''\n",
    "    Create some random image on which we will apply the colormap. Any other image could replace this one, with or without extent.\n",
    "    '''\n",
    "\n",
    "    dx, dy = 0.015, 0.05\n",
    "    x = np.arange(-4.0, 4.0, dx)\n",
    "    y = np.arange(-4.0, 4.0, dy)\n",
    "    X, Y = np.meshgrid(x, y)\n",
    "\n",
    "    extent = np.min(x), np.max(x), np.min(y), np.max(y)\n",
    "\n",
    "    def z_fun(x, y):\n",
    "        return (1 - x / 2 + x**5 + y**6) * np.exp(-(x**2 + y**2))\n",
    "\n",
    "    Z2 = z_fun(X, Y)\n",
    "    return(extent, Z2)\n",
    "\n",
    "def create_cmap(**kwargs): \n",
    "    '''\n",
    "    Create a color matrix and a color map using 3 lists of r (red), g (green) and b (blue) values.\n",
    "\n",
    "    Parameters:\n",
    "    - r (list of floats): red value, between 0 and 1\n",
    "    - g (list of floats): green value, between 0 and 1\n",
    "    - b (list of floats): blue value, between 0 and 1\n",
    "\n",
    "    Returns:\n",
    "    - color_matrix (numpy 2D array): contains all the rgb values for a given colormap\n",
    "    - color_map (matplotlib object): the color_matrix transformed into an object that matplotlib can use on figures\n",
    "    '''  \n",
    "\n",
    "    color_matrix = np.empty([256,3])\n",
    "    color_matrix.fill(0) \n",
    "    color_matrix[:,0] = kwargs[\"r\"]\n",
    "    color_matrix[:,1] = kwargs[\"g\"]\n",
    "    color_matrix[:,2] = kwargs[\"b\"]\n",
    "    color_map = ListedColormap(color_matrix)\n",
    "    return(color_matrix, color_map)\n",
    "\n",
    "\n",
    "def standardize_timeseries_between(timeseries, borne_inf = 0, borne_sup = 1):\n",
    "    '''\n",
    "    For lisibility reasons, I defined r,g,b values between 0 and 255. But the matplotlib ListedColormap function expects values between 0 and 1.\n",
    "\n",
    "    Parameters:\n",
    "    timeseries (list of floats): can be one color vector in our case (either r, g o r b)\n",
    "    borne_inf (int): The minimum value in our timeseries will be replaced by this value\n",
    "    borne_sup (int): The maximum value in our timeseries will be replaced by this value\n",
    "    '''\n",
    "\n",
    "    timeseries_standardized = []\n",
    "\n",
    "    for i in range(len(timeseries)):\n",
    "        a = (borne_sup - borne_inf) / (max(timeseries) - min(timeseries))\n",
    "        b = borne_inf - a * min(timeseries)\n",
    "\n",
    "        timeseries_standardized.append(a * timeseries[i] + b)\n",
    "\n",
    "    timeseries_standardized = np.array(timeseries_standardized)\n",
    "    return(timeseries_standardized)\n",
    "\n",
    "def create_custom_colormap(weight):\n",
    "    '''\n",
    "    This function is at the heart of the process. It takes only one < weight > parameter, that you can chose. \n",
    "    - For weight between 0 and 255, the colormaps that are created will vary between white-red (min-max) to white-yellow (min-max).\n",
    "    - For weight between 256 and 510, the colormaps that are created will vary between white-green (min-max) to white-cyan (min-max).\n",
    "    - For weight between 511 and 765, the colormaps that are created will vary between white-blue (min-max) to white-purple (min-max).\n",
    "    '''    \n",
    "    if weight <= 255:\n",
    "        ### 0>w<255\n",
    "        r = np.repeat(1, 256)\n",
    "\n",
    "        g = np.arange(0, 256, 1)\n",
    "        g = standardize_timeseries_between(g, weight/256, 1)\n",
    "        g = g[::-1]\n",
    "\n",
    "        b = np.arange(0, 256, 1)\n",
    "        b = standardize_timeseries_between(b, 1/256, 1)\n",
    "        b = b[::-1]\n",
    "\n",
    "    if weight > 255 and weight <= 255*2:\n",
    "        weight = weight - 255\n",
    "\n",
    "        ### 255>w<510\n",
    "        g = np.repeat(1, 256)\n",
    "\n",
    "        r = np.arange(0, 256, 1)\n",
    "        r = standardize_timeseries_between(r, 1/256, 1)\n",
    "        r = r[::-1]\n",
    "        \n",
    "        b = np.arange(0, 256, 1)\n",
    "        b = standardize_timeseries_between(b, weight/256, 1)\n",
    "        b = b[::-1]\n",
    "\n",
    "    if weight > 255*2 and weight <= 255*3:\n",
    "        weight = weight - 255*2\n",
    "\n",
    "        ### 510>w<765\n",
    "        b = np.repeat(1, 256)\n",
    "\n",
    "        r = np.arange(0, 256, 1)\n",
    "        r = standardize_timeseries_between(r, weight/256, 1)\n",
    "        r = r[::-1]\n",
    "        \n",
    "        g = np.arange(0, 256, 1)\n",
    "        g = standardize_timeseries_between(g, 1/256, 1)\n",
    "        g = g[::-1]\n",
    "\n",
    "\n",
    "    cmap, color_map = create_cmap(r=r, g=g, b=b)\n",
    "\n",
    "    return(cmap, color_map)"
   ]
  },
  {
   "cell_type": "code",
   "execution_count": 2,
   "id": "41ec0536",
   "metadata": {},
   "outputs": [
    {
     "data": {
      "text/plain": [
       "<matplotlib.colorbar.Colorbar at 0x1275b9f40>"
      ]
     },
     "execution_count": 2,
     "metadata": {},
     "output_type": "execute_result"
    },
    {
     "data": {
      "image/png": "[encoded data removed]",
      "text/plain": [
       "<Figure size 432x288 with 2 Axes>"
      ]
     },
     "metadata": {
      "needs_background": "light"
     },
     "output_type": "display_data"
    }
   ],
   "source": [
    "### Cmap full green \n",
    "g = np.repeat(1,256)\n",
    "\n",
    "r = np.arange(0,256,1)\n",
    "r = standardize_timeseries_between(r,1/256,1)\n",
    "r = r[::-1]\n",
    "\n",
    "b = np.arange(0,256,1)\n",
    "b = standardize_timeseries_between(b,1/256,1)\n",
    "b = b[::-1]   \n",
    "cmap, color_map = create_cmap(r=r,g=g,b=b)\n",
    "\n",
    "extent, Z2 = create_image()\n",
    "\n",
    "plt.imshow(Z2, cmap =color_map, alpha = 0.7, \n",
    "           interpolation ='bilinear', extent = extent)\n",
    "plt.colorbar()"
   ]
  },
  {
   "cell_type": "code",
   "execution_count": 5,
   "id": "c717b937",
   "metadata": {},
   "outputs": [],
   "source": [
    "import matplotlib.cm as cm\n",
    "\n",
    "RdGy_cmap = cm.get_cmap('RdGy', 256)\n",
    "RdGy_matrix = RdGy_cmap(np.linspace(0, 1, 256))\n",
    "#RdGy_matrix[0] = (0.68, 0.68, 0.68, 1)\n",
    "#RdGy_matrix[1] = (1, 1, 1, 1)\n",
    "#reds_cmap_whitebg = ListedColormap(RdGy_matrix)"
   ]
  },
  {
   "cell_type": "code",
   "execution_count": 6,
   "id": "e0303338",
   "metadata": {},
   "outputs": [
    {
     "name": "stdout",
     "output_type": "stream",
     "text": [
      "(256, 3)\n"
     ]
    },
    {
     "data": {
      "text/plain": [
       "<matplotlib.colorbar.Colorbar at 0x154395e80>"
      ]
     },
     "execution_count": 6,
     "metadata": {},
     "output_type": "execute_result"
    },
    {
     "data": {
      "image/png": "[encoded data removed]",
      "text/plain": [
       "<Figure size 432x288 with 2 Axes>"
      ]
     },
     "metadata": {
      "needs_background": "light"
     },
     "output_type": "display_data"
    }
   ],
   "source": [
    "len(RdGy_matrix)\n",
    "\n",
    "data_selection = np.arange(0,256,2)\n",
    "\n",
    "cmap1_short = RdGy_matrix[data_selection][:,0:3]\n",
    "cmap2_short = cmap[data_selection]\n",
    "\n",
    "cmap_full = np.concatenate([cmap1_short,cmap2_short])\n",
    "print(cmap_full.shape)\n",
    "\n",
    "cmap, color_map = create_cmap(r=cmap_full[:,0], g=cmap_full[:,1], b=cmap_full[:,2])\n",
    "\n",
    "extent, Z2 = create_image()\n",
    "\n",
    "plt.imshow(Z2, cmap =color_map, alpha = 0.7, \n",
    "           interpolation ='bilinear', extent = extent)\n",
    "plt.colorbar()\n"
   ]
  },
  {
   "cell_type": "code",
   "execution_count": 7,
   "id": "30b79eb2",
   "metadata": {},
   "outputs": [
    {
     "data": {
      "text/plain": [
       "128"
      ]
     },
     "execution_count": 7,
     "metadata": {},
     "output_type": "execute_result"
    }
   ],
   "source": [
    "len(cmap1_short)"
   ]
  },
  {
   "cell_type": "code",
   "execution_count": 8,
   "id": "a1010f33",
   "metadata": {},
   "outputs": [
    {
     "data": {
      "text/plain": [
       "128"
      ]
     },
     "execution_count": 8,
     "metadata": {},
     "output_type": "execute_result"
    }
   ],
   "source": [
    "len(np.arange(0,128,1))"
   ]
  },
  {
   "cell_type": "code",
   "execution_count": 37,
   "id": "9766cdd4",
   "metadata": {},
   "outputs": [
    {
     "name": "stdout",
     "output_type": "stream",
     "text": [
      "(128,)\n"
     ]
    },
    {
     "ename": "ValueError",
     "evalue": "all the input arrays must have same number of dimensions, but the array at index 0 has 2 dimension(s) and the array at index 1 has 1 dimension(s)",
     "output_type": "error",
     "traceback": [
      "\u001b[0;31m---------------------------------------------------------------------------\u001b[0m",
      "\u001b[0;31mValueError\u001b[0m                                Traceback (most recent call last)",
      "Input \u001b[0;32mIn [37]\u001b[0m, in \u001b[0;36m<cell line: 3>\u001b[0;34m()\u001b[0m\n\u001b[1;32m      1\u001b[0m zz \u001b[38;5;241m=\u001b[39m np\u001b[38;5;241m.\u001b[39marange(\u001b[38;5;241m1\u001b[39m,\u001b[38;5;241m129\u001b[39m,\u001b[38;5;241m1\u001b[39m)\n\u001b[1;32m      2\u001b[0m \u001b[38;5;28mprint\u001b[39m(zz\u001b[38;5;241m.\u001b[39mshape)\n\u001b[0;32m----> 3\u001b[0m test \u001b[38;5;241m=\u001b[39m \u001b[43mnp\u001b[49m\u001b[38;5;241;43m.\u001b[39;49m\u001b[43mconcatenate\u001b[49m\u001b[43m(\u001b[49m\u001b[43m[\u001b[49m\u001b[43mcmap1_short\u001b[49m\u001b[43m,\u001b[49m\u001b[43mzz\u001b[49m\u001b[43m]\u001b[49m\u001b[43m,\u001b[49m\u001b[43m \u001b[49m\u001b[43maxis\u001b[49m\u001b[43m \u001b[49m\u001b[38;5;241;43m=\u001b[39;49m\u001b[38;5;241;43m1\u001b[39;49m\u001b[43m)\u001b[49m\n\u001b[1;32m      4\u001b[0m test\u001b[38;5;241m.\u001b[39mshape\n",
      "File \u001b[0;32m<__array_function__ internals>:5\u001b[0m, in \u001b[0;36mconcatenate\u001b[0;34m(*args, **kwargs)\u001b[0m\n",
      "\u001b[0;31mValueError\u001b[0m: all the input arrays must have same number of dimensions, but the array at index 0 has 2 dimension(s) and the array at index 1 has 1 dimension(s)"
     ]
    }
   ],
   "source": [
    "zz = np.arange(1,129,1)\n",
    "print(zz.shape)\n",
    "test = np.concatenate([cmap1_short,zz], axis =1)\n",
    "test.shape"
   ]
  },
  {
   "cell_type": "code",
   "execution_count": 39,
   "id": "005f6b15",
   "metadata": {},
   "outputs": [
    {
     "data": {
      "text/plain": [
       "(128, 3, 1)"
      ]
     },
     "execution_count": 39,
     "metadata": {},
     "output_type": "execute_result"
    }
   ],
   "source": [
    "test  = cmap1_short[..., np.newaxis]\n",
    "test.shape"
   ]
  },
  {
   "cell_type": "code",
   "execution_count": 41,
   "id": "c4f919c0",
   "metadata": {},
   "outputs": [
    {
     "data": {
      "text/plain": [
       "array([0.40392157, 0.42698962, 0.45005767, 0.47312572, 0.49619377,\n",
       "       0.51926182, 0.54232987, 0.56539792, 0.58846597, 0.61153403,\n",
       "       0.63460208, 0.65767013, 0.68073818, 0.70080738, 0.71188005,\n",
       "       0.72295271, 0.73402537, 0.74509804, 0.7561707 , 0.76724337,\n",
       "       0.77831603, 0.7893887 , 0.80046136, 0.81153403, 0.82260669,\n",
       "       0.83367935, 0.8438293 , 0.85305652, 0.86228374, 0.87151096,\n",
       "       0.88073818, 0.8899654 , 0.89919262, 0.90841984, 0.91764706,\n",
       "       0.92687428, 0.9361015 , 0.94532872, 0.95455594, 0.95893887,\n",
       "       0.96170704, 0.9644752 , 0.96724337, 0.97001153, 0.9727797 ,\n",
       "       0.97554787, 0.97831603, 0.9810842 , 0.98385236, 0.98662053,\n",
       "       0.9893887 , 0.99215686, 0.99277201, 0.99338716, 0.99400231,\n",
       "       0.99461745, 0.9952326 , 0.99584775, 0.9964629 , 0.99707805,\n",
       "       0.99769319, 0.99830834, 0.99892349, 0.99953864, 0.9976163 ,\n",
       "       0.98808151, 0.97854671, 0.96901192, 0.95947712, 0.94994233,\n",
       "       0.94040754, 0.93087274, 0.92133795, 0.91180315, 0.90226836,\n",
       "       0.89273356, 0.88319877, 0.87258747, 0.86089965, 0.84921184,\n",
       "       0.83752403, 0.82583622, 0.8141484 , 0.80246059, 0.79077278,\n",
       "       0.77908497, 0.76739715, 0.75570934, 0.74402153, 0.73233372,\n",
       "       0.71764706, 0.70196078, 0.68627451, 0.67058824, 0.65490196,\n",
       "       0.63921569, 0.62352941, 0.60784314, 0.59215686, 0.57647059,\n",
       "       0.56078431, 0.54509804, 0.52941176, 0.51157247, 0.49373318,\n",
       "       0.47589389, 0.45805459, 0.4402153 , 0.42237601, 0.40453672,\n",
       "       0.38669742, 0.36885813, 0.35101884, 0.33317955, 0.31534025,\n",
       "       0.29803922, 0.28235294, 0.26666667, 0.25098039, 0.23529412,\n",
       "       0.21960784, 0.20392157, 0.18823529, 0.17254902, 0.15686275,\n",
       "       0.14117647, 0.1254902 , 0.10980392])"
      ]
     },
     "execution_count": 41,
     "metadata": {},
     "output_type": "execute_result"
    }
   ],
   "source": [
    "cmap1_short[:,0]"
   ]
  },
  {
   "cell_type": "code",
   "execution_count": null,
   "id": "9751282d",
   "metadata": {},
   "outputs": [],
   "source": []
  }
 ],
 "metadata": {
  "kernelspec": {
   "display_name": "Python 3 (ipykernel)",
   "language": "python",
   "name": "python3"
  },
  "language_info": {
   "codemirror_mode": {
    "name": "ipython",
    "version": 3
   },
   "file_extension": ".py",
   "mimetype": "text/x-python",
   "name": "python",
   "nbconvert_exporter": "python",
   "pygments_lexer": "ipython3",
   "version": "3.9.12"
  }
 },
 "nbformat": 4,
 "nbformat_minor": 5
}
